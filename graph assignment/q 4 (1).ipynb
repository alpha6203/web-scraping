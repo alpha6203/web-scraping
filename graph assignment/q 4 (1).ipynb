{
 "cells": [
  {
   "cell_type": "code",
   "execution_count": 4,
   "id": "594119d9",
   "metadata": {},
   "outputs": [
    {
     "name": "stdout",
     "output_type": "stream",
     "text": [
      "of respected former finance minister of India:\n",
      "0\n"
     ]
    }
   ],
   "source": [
    "import requests\n",
    "from lxml import html\n",
    "url = 'http://www.state.gov/r/pa/ode/socialmedia/'\n",
    "doc = html.fromstring(requests.get(url).text)\n",
    "pinlinks = [a for a in doc.cssselect('a') if 'pinterest.com' in str(a.attrib.get('href'))]\n",
    "print(\"of respected former finance minister of India:\")\n",
    "print(len(pinlinks))"
   ]
  },
  {
   "cell_type": "code",
   "execution_count": null,
   "id": "3e3fb6ca",
   "metadata": {},
   "outputs": [],
   "source": []
  }
 ],
 "metadata": {
  "kernelspec": {
   "display_name": "Python 3 (ipykernel)",
   "language": "python",
   "name": "python3"
  },
  "language_info": {
   "codemirror_mode": {
    "name": "ipython",
    "version": 3
   },
   "file_extension": ".py",
   "mimetype": "text/x-python",
   "name": "python",
   "nbconvert_exporter": "python",
   "pygments_lexer": "ipython3",
   "version": "3.11.5"
  }
 },
 "nbformat": 4,
 "nbformat_minor": 5
}
